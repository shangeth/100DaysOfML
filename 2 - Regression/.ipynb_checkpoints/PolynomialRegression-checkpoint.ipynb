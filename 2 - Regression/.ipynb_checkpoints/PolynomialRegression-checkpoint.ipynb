{
 "cells": [
  {
   "cell_type": "markdown",
   "metadata": {},
   "source": [
    "## Preprocessing"
   ]
  },
  {
   "cell_type": "code",
   "execution_count": 3,
   "metadata": {},
   "outputs": [
    {
     "name": "stdout",
     "output_type": "stream",
     "text": [
      "data=\n",
      "             Position  Level   Salary\n",
      "0   Business Analyst      1    45000\n",
      "1  Junior Consultant      2    50000\n",
      "2  Senior Consultant      3    60000\n",
      "3            Manager      4    80000\n",
      "4    Country Manager      5   110000\n",
      "5     Region Manager      6   150000\n",
      "6            Partner      7   200000\n",
      "7     Senior Partner      8   300000\n",
      "8            C-level      9   500000\n",
      "9                CEO     10  1000000\n",
      "Shuffled data =\n",
      "             Position  Level   Salary\n",
      "0     Senior Partner      8   300000\n",
      "1                CEO     10  1000000\n",
      "2   Business Analyst      1    45000\n",
      "3            C-level      9   500000\n",
      "4            Manager      4    80000\n",
      "5     Region Manager      6   150000\n",
      "6    Country Manager      5   110000\n",
      "7  Junior Consultant      2    50000\n",
      "8            Partner      7   200000\n",
      "9  Senior Consultant      3    60000\n",
      "X=\n",
      " [[ 8]\n",
      " [10]\n",
      " [ 1]\n",
      " [ 9]\n",
      " [ 4]\n",
      " [ 6]\n",
      " [ 5]\n",
      " [ 2]\n",
      " [ 7]\n",
      " [ 3]]\n",
      "y=\n",
      " [ 300000 1000000   45000  500000   80000  150000  110000   50000  200000\n",
      "   60000]\n"
     ]
    }
   ],
   "source": [
    "import pandas as pd\n",
    "import numpy as np\n",
    "import matplotlib.pyplot as plt\n",
    "from sklearn.utils import shuffle\n",
    "\n",
    "\n",
    "df = pd.read_csv('Position_Salaries.csv')\n",
    "print(\"data=\\n\",df)\n",
    "\n",
    "df = shuffle(df).reset_index(drop=True)\n",
    "print(\"Shuffled data =\\n\",df)\n",
    "\n",
    "\n",
    "X = df.iloc[:,1:2].values # make X data into matrix/array\n",
    "print(\"X=\\n\",X)\n",
    "\n",
    "y = df.iloc[:,2].values # make y data into matrix/array\n",
    "print(\"y=\\n\",y)\n",
    "\n",
    "#Categorical\n",
    "\n",
    "# #changing categories(text) into numbers for computation\n",
    "# from sklearn.preprocessing import LabelEncoder\n",
    "# le_X = LabelEncoder()\n",
    "# #change countries names to numbers\n",
    "# X[:,3] = le_X.fit_transform(X[:,3])\n",
    "# print(\"Categorized X = \\n\", X)\n",
    "\n",
    "\n",
    "# #to avoid the model to assume ranking countries as they aare categorized with numbers\n",
    "# from sklearn.preprocessing import OneHotEncoder  \n",
    "# encoder = OneHotEncoder(categorical_features=[3])\n",
    "# X = encoder.fit_transform(X).toarray()\n",
    "# print(\"Encoded X = \\n\", X)\n",
    "\n",
    "\n",
    "# from sklearn.cross_validation import train_test_split\n",
    "# X_train,X_test,y_train,y_test = train_test_split(X, y, test_size=0.2, random_state=0)\n",
    "# print(\"X Training = \\n\",X_train)\n",
    "# print(\"X Test = \\n\",X_test)\n",
    "# print(\"y Training = \\n\",y_train)\n",
    "# print(\"y Test = \\n\",y_test)\n",
    "\n",
    "\n"
   ]
  },
  {
   "cell_type": "markdown",
   "metadata": {},
   "source": [
    " ## Sklearn Models"
   ]
  },
  {
   "cell_type": "code",
   "execution_count": 6,
   "metadata": {},
   "outputs": [
    {
     "data": {
      "text/plain": [
       "array([330378.78787879])"
      ]
     },
     "execution_count": 6,
     "metadata": {},
     "output_type": "execute_result"
    }
   ],
   "source": [
    "from sklearn.linear_model import LinearRegression\n",
    "line_reg = LinearRegression()\n",
    "line_reg.fit(X,y)\n",
    "line_reg.predict(6.5)"
   ]
  },
  {
   "cell_type": "code",
   "execution_count": 13,
   "metadata": {},
   "outputs": [
    {
     "data": {
      "text/plain": [
       "LinearRegression(copy_X=True, fit_intercept=True, n_jobs=1, normalize=False)"
      ]
     },
     "execution_count": 13,
     "metadata": {},
     "output_type": "execute_result"
    }
   ],
   "source": [
    "from sklearn.preprocessing import PolynomialFeatures\n",
    "poly_reg = PolynomialFeatures(degree=2)\n",
    "X_poly = poly_reg.fit_transform(X)\n",
    "lin_reg_2 = LinearRegression()\n",
    "lin_reg_2.fit(X_poly,y)\n"
   ]
  },
  {
   "cell_type": "code",
   "execution_count": null,
   "metadata": {},
   "outputs": [],
   "source": []
  },
  {
   "cell_type": "code",
   "execution_count": null,
   "metadata": {},
   "outputs": [],
   "source": []
  }
 ],
 "metadata": {
  "kernelspec": {
   "display_name": "Python 3",
   "language": "python",
   "name": "python3"
  },
  "language_info": {
   "codemirror_mode": {
    "name": "ipython",
    "version": 3
   },
   "file_extension": ".py",
   "mimetype": "text/x-python",
   "name": "python",
   "nbconvert_exporter": "python",
   "pygments_lexer": "ipython3",
   "version": "3.6.5"
  }
 },
 "nbformat": 4,
 "nbformat_minor": 2
}
