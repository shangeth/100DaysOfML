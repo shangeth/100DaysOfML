{
 "cells": [
  {
   "cell_type": "code",
   "execution_count": 4,
   "metadata": {},
   "outputs": [],
   "source": [
    "import numpy as np\n",
    "import matplotlib.pyplot as plt\n",
    "import pandas as pd\n",
    "import math\n",
    "\n",
    "df = pd.read_csv('Ads_CTR_Optimisation.csv')"
   ]
  },
  {
   "cell_type": "code",
   "execution_count": 5,
   "metadata": {},
   "outputs": [],
   "source": [
    "N = df.shape[0]\n",
    "d = df.shape[1]\n",
    "num_selections = [0] * d\n",
    "sum_rewards = [0] * d\n",
    "ads_selected = []\n",
    "total_reward = 0\n",
    "\n",
    "for n in range(0,N):\n",
    "    max_ucb = 0\n",
    "    ad = 0\n",
    "    for i in range(0,d):\n",
    "        if (num_selections[i] > 0):\n",
    "            avg_reward = sum_rewards[i] / num_selections[i]\n",
    "            delta_i = math.sqrt(3/2 * math.log(n+1)/num_selections[i])\n",
    "            ucb = avg_reward + delta_i\n",
    "        else:\n",
    "            ucb = 1e400   \n",
    "        if ucb > max_ucb:\n",
    "            max_ucb = ucb\n",
    "            ad = i\n",
    "        ads_selected.append(ad)\n",
    "    num_selections[ad] = num_selections[ad] + 1\n",
    "    reward = df.values[n, ad]\n",
    "    sum_rewards[ad] = sum_rewards[ad] + reward\n",
    "    total_reward = total_reward + reward    \n",
    "            \n",
    "            \n"
   ]
  },
  {
   "cell_type": "code",
   "execution_count": 6,
   "metadata": {},
   "outputs": [
    {
     "data": {
      "image/png": "[encoded data removed]",
      "text/plain": [
       "<Figure size 432x288 with 1 Axes>"
      ]
     },
     "metadata": {},
     "output_type": "display_data"
    }
   ],
   "source": [
    "plt.hist(ads_selected)\n",
    "plt.title('Histogram of ads selections')\n",
    "plt.xlabel('Ads')\n",
    "plt.ylabel('Number of times each ad was selected')\n",
    "plt.show()"
   ]
  },
  {
   "cell_type": "markdown",
   "metadata": {},
   "source": []
  }
 ],
 "metadata": {
  "kernelspec": {
   "display_name": "Python 3",
   "language": "python",
   "name": "python3"
  },
  "language_info": {
   "codemirror_mode": {
    "name": "ipython",
    "version": 3
   },
   "file_extension": ".py",
   "mimetype": "text/x-python",
   "name": "python",
   "nbconvert_exporter": "python",
   "pygments_lexer": "ipython3",
   "version": "3.6.6"
  }
 },
 "nbformat": 4,
 "nbformat_minor": 2
}
