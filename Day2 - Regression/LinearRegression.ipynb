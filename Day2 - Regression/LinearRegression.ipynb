{
 "cells": [
  {
   "cell_type": "markdown",
   "metadata": {},
   "source": [
    "## Preprocessing"
   ]
  },
  {
   "cell_type": "code",
   "execution_count": 8,
   "metadata": {},
   "outputs": [
    {
     "name": "stdout",
     "output_type": "stream",
     "text": [
      "data=\n",
      "     YearsExperience    Salary\n",
      "0               1.1   39343.0\n",
      "1               1.3   46205.0\n",
      "2               1.5   37731.0\n",
      "3               2.0   43525.0\n",
      "4               2.2   39891.0\n",
      "5               2.9   56642.0\n",
      "6               3.0   60150.0\n",
      "7               3.2   54445.0\n",
      "8               3.2   64445.0\n",
      "9               3.7   57189.0\n",
      "10              3.9   63218.0\n",
      "11              4.0   55794.0\n",
      "12              4.0   56957.0\n",
      "13              4.1   57081.0\n",
      "14              4.5   61111.0\n",
      "15              4.9   67938.0\n",
      "16              5.1   66029.0\n",
      "17              5.3   83088.0\n",
      "18              5.9   81363.0\n",
      "19              6.0   93940.0\n",
      "20              6.8   91738.0\n",
      "21              7.1   98273.0\n",
      "22              7.9  101302.0\n",
      "23              8.2  113812.0\n",
      "24              8.7  109431.0\n",
      "25              9.0  105582.0\n",
      "26              9.5  116969.0\n",
      "27              9.6  112635.0\n",
      "28             10.3  122391.0\n",
      "29             10.5  121872.0\n",
      "Shuffled data =\n",
      "     YearsExperience    Salary\n",
      "0              10.5  121872.0\n",
      "1               8.7  109431.0\n",
      "2               3.0   60150.0\n",
      "3               2.9   56642.0\n",
      "4               1.5   37731.0\n",
      "5               7.9  101302.0\n",
      "6               9.5  116969.0\n",
      "7               6.0   93940.0\n",
      "8               2.0   43525.0\n",
      "9               1.1   39343.0\n",
      "10              7.1   98273.0\n",
      "11              1.3   46205.0\n",
      "12              4.5   61111.0\n",
      "13              5.3   83088.0\n",
      "14              5.1   66029.0\n",
      "15              4.9   67938.0\n",
      "16              3.2   64445.0\n",
      "17              9.0  105582.0\n",
      "18              3.9   63218.0\n",
      "19              3.2   54445.0\n",
      "20              2.2   39891.0\n",
      "21             10.3  122391.0\n",
      "22              4.0   55794.0\n",
      "23              6.8   91738.0\n",
      "24              4.0   56957.0\n",
      "25              5.9   81363.0\n",
      "26              4.1   57081.0\n",
      "27              9.6  112635.0\n",
      "28              3.7   57189.0\n",
      "29              8.2  113812.0\n",
      "X=\n",
      " [[10.5]\n",
      " [ 8.7]\n",
      " [ 3. ]\n",
      " [ 2.9]\n",
      " [ 1.5]\n",
      " [ 7.9]\n",
      " [ 9.5]\n",
      " [ 6. ]\n",
      " [ 2. ]\n",
      " [ 1.1]\n",
      " [ 7.1]\n",
      " [ 1.3]\n",
      " [ 4.5]\n",
      " [ 5.3]\n",
      " [ 5.1]\n",
      " [ 4.9]\n",
      " [ 3.2]\n",
      " [ 9. ]\n",
      " [ 3.9]\n",
      " [ 3.2]\n",
      " [ 2.2]\n",
      " [10.3]\n",
      " [ 4. ]\n",
      " [ 6.8]\n",
      " [ 4. ]\n",
      " [ 5.9]\n",
      " [ 4.1]\n",
      " [ 9.6]\n",
      " [ 3.7]\n",
      " [ 8.2]]\n",
      "y=\n",
      " [121872. 109431.  60150.  56642.  37731. 101302. 116969.  93940.  43525.\n",
      "  39343.  98273.  46205.  61111.  83088.  66029.  67938.  64445. 105582.\n",
      "  63218.  54445.  39891. 122391.  55794.  91738.  56957.  81363.  57081.\n",
      " 112635.  57189. 113812.]\n",
      "X Training = \n",
      " [[ 9.6]\n",
      " [ 1.3]\n",
      " [ 9. ]\n",
      " [ 4. ]\n",
      " [ 7.9]\n",
      " [ 3.2]\n",
      " [ 2. ]\n",
      " [ 5.1]\n",
      " [ 6.8]\n",
      " [ 2.2]\n",
      " [ 8.7]\n",
      " [ 8.2]\n",
      " [ 9.5]\n",
      " [ 1.5]\n",
      " [ 3.9]\n",
      " [ 3.2]\n",
      " [ 1.1]\n",
      " [ 6. ]\n",
      " [ 5.9]\n",
      " [ 2.9]\n",
      " [10.5]\n",
      " [10.3]\n",
      " [ 4.9]\n",
      " [ 4.5]]\n",
      "X Test = \n",
      " [[3. ]\n",
      " [3.7]\n",
      " [5.3]\n",
      " [7.1]\n",
      " [4.1]\n",
      " [4. ]]\n",
      "y Training = \n",
      " [112635.  46205. 105582.  55794. 101302.  64445.  43525.  66029.  91738.\n",
      "  39891. 109431. 113812. 116969.  37731.  63218.  54445.  39343.  93940.\n",
      "  81363.  56642. 121872. 122391.  67938.  61111.]\n",
      "y Test = \n",
      " [60150. 57189. 83088. 98273. 57081. 56957.]\n"
     ]
    }
   ],
   "source": [
    "import pandas as pd\n",
    "import numpy as np\n",
    "import matplotlib.pyplot as plt\n",
    "from sklearn.utils import shuffle\n",
    "\n",
    "\n",
    "df = pd.read_csv('Salary_Data.csv')\n",
    "print(\"data=\\n\",df)\n",
    "\n",
    "df = shuffle(df).reset_index(drop=True)\n",
    "print(\"Shuffled data =\\n\",df)\n",
    "\n",
    "\n",
    "X = df.iloc[:,:-1].values # make X data into matrix/array\n",
    "print(\"X=\\n\",X)\n",
    "\n",
    "y = df.iloc[:,-1].values # make y data into matrix/array\n",
    "print(\"y=\\n\",y)\n",
    "\n",
    "from sklearn.cross_validation import train_test_split\n",
    "X_train,X_test,y_train,y_test = train_test_split(X, y, test_size=0.2, random_state=0)\n",
    "print(\"X Training = \\n\",X_train)\n",
    "print(\"X Test = \\n\",X_test)\n",
    "print(\"y Training = \\n\",y_train)\n",
    "print(\"y Test = \\n\",y_test)\n"
   ]
  },
  {
   "cell_type": "markdown",
   "metadata": {},
   "source": [
    "## Sklearn Models"
   ]
  },
  {
   "cell_type": "code",
   "execution_count": 16,
   "metadata": {},
   "outputs": [
    {
     "name": "stdout",
     "output_type": "stream",
     "text": [
      "[54320.55165714 60874.7232877  75855.68701471 92709.2712076\n",
      " 64619.96421946 63683.65398652]\n"
     ]
    }
   ],
   "source": [
    "from sklearn.linear_model import LinearRegression\n",
    "reg = LinearRegression()\n",
    "reg.fit(X_train, y_train)\n",
    "y_pred = reg.predict(X_test)\n",
    "\n",
    "print(y_pred)\n"
   ]
  },
  {
   "cell_type": "markdown",
   "metadata": {},
   "source": [
    "## Plotting Sklearn Model"
   ]
  },
  {
   "cell_type": "code",
   "execution_count": 21,
   "metadata": {},
   "outputs": [
    {
     "data": {
      "image/png": "[encoded data removed]",
      "text/plain": [
       "<Figure size 432x288 with 1 Axes>"
      ]
     },
     "metadata": {},
     "output_type": "display_data"
    }
   ],
   "source": [
    "plt.scatter(X_train, y_train, color='red')\n",
    "plt.scatter(X_test, y_test, color='black')\n",
    "plt.plot(X_train,reg.predict(X_train))\n",
    "plt.legend(('Prediction Model(Best Fit line)','Training Data','Test Data'), loc='lower right')\n",
    "plt.title('Salary vs Experience (Training Set)')\n",
    "plt.xlabel('Experience(in Years)')\n",
    "plt.ylabel('Salary')\n",
    "plt.show()"
   ]
  },
  {
   "cell_type": "markdown",
   "metadata": {},
   "source": [
    "# Evaluating Sklearn Model"
   ]
  },
  {
   "cell_type": "code",
   "execution_count": 25,
   "metadata": {},
   "outputs": [
    {
     "name": "stdout",
     "output_type": "stream",
     "text": [
      "r squared of the model =  0.8507004406257548\n"
     ]
    }
   ],
   "source": [
    "from sklearn.metrics import r2_score\n",
    "r2 = r2_score(y_test,y_pred)\n",
    "print('r squared of the model = ',r2)"
   ]
  },
  {
   "cell_type": "code",
   "execution_count": null,
   "metadata": {},
   "outputs": [],
   "source": []
  }
 ],
 "metadata": {
  "kernelspec": {
   "display_name": "Python 3",
   "language": "python",
   "name": "python3"
  },
  "language_info": {
   "codemirror_mode": {
    "name": "ipython",
    "version": 3
   },
   "file_extension": ".py",
   "mimetype": "text/x-python",
   "name": "python",
   "nbconvert_exporter": "python",
   "pygments_lexer": "ipython3",
   "version": "3.6.5"
  }
 },
 "nbformat": 4,
 "nbformat_minor": 2
}
