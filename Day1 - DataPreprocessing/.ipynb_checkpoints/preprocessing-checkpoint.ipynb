{
 "cells": [
  {
   "cell_type": "markdown",
   "metadata": {},
   "source": [
    "# Data Preprocessing\n"
   ]
  },
  {
   "cell_type": "markdown",
   "metadata": {},
   "source": [
    "## Data Reading and Matrix conversion"
   ]
  },
  {
   "cell_type": "code",
   "execution_count": 14,
   "metadata": {},
   "outputs": [
    {
     "name": "stdout",
     "output_type": "stream",
     "text": [
      "data=\n",
      "    Country   Age   Salary Purchased\n",
      "0   France  44.0  72000.0        No\n",
      "1    Spain  27.0  48000.0       Yes\n",
      "2  Germany  30.0  54000.0        No\n",
      "3    Spain  38.0  61000.0        No\n",
      "4  Germany  40.0      NaN       Yes\n",
      "5   France  35.0  58000.0       Yes\n",
      "6    Spain   NaN  52000.0        No\n",
      "7   France  48.0  79000.0       Yes\n",
      "8  Germany  50.0  83000.0        No\n",
      "9   France  37.0  67000.0       Yes\n",
      "Shuffled data =\n",
      "    Country   Age   Salary Purchased\n",
      "7   France  48.0  79000.0       Yes\n",
      "0   France  44.0  72000.0        No\n",
      "3    Spain  38.0  61000.0        No\n",
      "2  Germany  30.0  54000.0        No\n",
      "5   France  35.0  58000.0       Yes\n",
      "8  Germany  50.0  83000.0        No\n",
      "1    Spain  27.0  48000.0       Yes\n",
      "9   France  37.0  67000.0       Yes\n",
      "6    Spain   NaN  52000.0        No\n",
      "4  Germany  40.0      NaN       Yes\n",
      "X=\n",
      " [['France' 48.0 79000.0]\n",
      " ['France' 44.0 72000.0]\n",
      " ['Spain' 38.0 61000.0]\n",
      " ['Germany' 30.0 54000.0]\n",
      " ['France' 35.0 58000.0]\n",
      " ['Germany' 50.0 83000.0]\n",
      " ['Spain' 27.0 48000.0]\n",
      " ['France' 37.0 67000.0]\n",
      " ['Spain' nan 52000.0]\n",
      " ['Germany' 40.0 nan]]\n",
      "y=\n",
      " ['Yes' 'No' 'No' 'No' 'Yes' 'No' 'Yes' 'Yes' 'No' 'Yes']\n"
     ]
    }
   ],
   "source": [
    "import pandas as pd\n",
    "import numpy as np\n",
    "import matplotlib.pyplot as plt\n",
    "from sklearn.utils import shuffle\n",
    "\n",
    "\n",
    "df = pd.read_csv('Data.csv')\n",
    "print(\"data=\\n\",df)\n",
    "\n",
    "df = shuffle(df)\n",
    "print(\"Shuffled data =\\n\",df)\n",
    "\n",
    "\n",
    "\n",
    "X = df.iloc[:,:-1].values # make X data into matrix/array\n",
    "print(\"X=\\n\",X)\n",
    "\n",
    "y = df.iloc[:,3].values # make y data into matrix/array\n",
    "print(\"y=\\n\",y)"
   ]
  },
  {
   "cell_type": "markdown",
   "metadata": {},
   "source": [
    "## Missing Data"
   ]
  },
  {
   "cell_type": "code",
   "execution_count": 15,
   "metadata": {},
   "outputs": [
    {
     "name": "stdout",
     "output_type": "stream",
     "text": [
      "Transformed X = \n",
      " [['France' 48.0 79000.0]\n",
      " ['France' 44.0 72000.0]\n",
      " ['Spain' 38.0 61000.0]\n",
      " ['Germany' 30.0 54000.0]\n",
      " ['France' 35.0 58000.0]\n",
      " ['Germany' 50.0 83000.0]\n",
      " ['Spain' 27.0 48000.0]\n",
      " ['France' 37.0 67000.0]\n",
      " ['Spain' 38.77777777777778 52000.0]\n",
      " ['Germany' 40.0 63777.77777777778]]\n"
     ]
    }
   ],
   "source": [
    "# replace missing data with mean of the column\n",
    "from sklearn.preprocessing import Imputer\n",
    "imputer = Imputer(missing_values='NaN',strategy='mean',axis=0)\n",
    "imputer = imputer.fit(X[:, 1:3])\n",
    "\n",
    "X[:, 1:3] = imputer.transform(X[:, 1:3])\n",
    "print(\"Transformed X = \\n\",X)\n",
    "\n",
    "\n",
    "\n"
   ]
  },
  {
   "cell_type": "markdown",
   "metadata": {},
   "source": [
    "## Categorical Data"
   ]
  },
  {
   "cell_type": "code",
   "execution_count": 16,
   "metadata": {},
   "outputs": [
    {
     "name": "stdout",
     "output_type": "stream",
     "text": [
      "Categorized X = \n",
      " [[0 48.0 79000.0]\n",
      " [0 44.0 72000.0]\n",
      " [2 38.0 61000.0]\n",
      " [1 30.0 54000.0]\n",
      " [0 35.0 58000.0]\n",
      " [1 50.0 83000.0]\n",
      " [2 27.0 48000.0]\n",
      " [0 37.0 67000.0]\n",
      " [2 38.77777777777778 52000.0]\n",
      " [1 40.0 63777.77777777778]]\n",
      "Categorized y = \n",
      " [1 0 0 0 1 0 1 1 0 1]\n"
     ]
    }
   ],
   "source": [
    "#changing categories(text) into numbers for computation\n",
    "from sklearn.preprocessing import LabelEncoder\n",
    "le_X = LabelEncoder()\n",
    "le_X.fit_transform(X[:,0]) #change countries names to numbers\n",
    "X[:,0] = le_X.fit_transform(X[:,0])\n",
    "print(\"Categorized X = \\n\", X)\n",
    "\n",
    "le_y = LabelEncoder()\n",
    "le_y.fit_transform(y) #change countries names to numbers\n",
    "y = le_X.fit_transform(y)\n",
    "print(\"Categorized y = \\n\",y)"
   ]
  },
  {
   "cell_type": "markdown",
   "metadata": {},
   "source": [
    "## DummyEncoding"
   ]
  },
  {
   "cell_type": "code",
   "execution_count": 17,
   "metadata": {},
   "outputs": [
    {
     "name": "stdout",
     "output_type": "stream",
     "text": [
      "Encoded X = \n",
      " [[1.00000000e+00 0.00000000e+00 0.00000000e+00 4.80000000e+01\n",
      "  7.90000000e+04]\n",
      " [1.00000000e+00 0.00000000e+00 0.00000000e+00 4.40000000e+01\n",
      "  7.20000000e+04]\n",
      " [0.00000000e+00 0.00000000e+00 1.00000000e+00 3.80000000e+01\n",
      "  6.10000000e+04]\n",
      " [0.00000000e+00 1.00000000e+00 0.00000000e+00 3.00000000e+01\n",
      "  5.40000000e+04]\n",
      " [1.00000000e+00 0.00000000e+00 0.00000000e+00 3.50000000e+01\n",
      "  5.80000000e+04]\n",
      " [0.00000000e+00 1.00000000e+00 0.00000000e+00 5.00000000e+01\n",
      "  8.30000000e+04]\n",
      " [0.00000000e+00 0.00000000e+00 1.00000000e+00 2.70000000e+01\n",
      "  4.80000000e+04]\n",
      " [1.00000000e+00 0.00000000e+00 0.00000000e+00 3.70000000e+01\n",
      "  6.70000000e+04]\n",
      " [0.00000000e+00 0.00000000e+00 1.00000000e+00 3.87777778e+01\n",
      "  5.20000000e+04]\n",
      " [0.00000000e+00 1.00000000e+00 0.00000000e+00 4.00000000e+01\n",
      "  6.37777778e+04]]\n"
     ]
    }
   ],
   "source": [
    "#to avoid the model to assume ranking countries as they aare categorized with numbers\n",
    "from sklearn.preprocessing import OneHotEncoder  \n",
    "encoder = OneHotEncoder(categorical_features=[0])\n",
    "X = encoder.fit_transform(X).toarray()\n",
    "print(\"Encoded X = \\n\", X)"
   ]
  },
  {
   "cell_type": "markdown",
   "metadata": {},
   "source": [
    "## Training/Test set data"
   ]
  },
  {
   "cell_type": "code",
   "execution_count": 18,
   "metadata": {},
   "outputs": [
    {
     "name": "stdout",
     "output_type": "stream",
     "text": [
      "X Training = \n",
      " [[1.00000000e+00 0.00000000e+00 0.00000000e+00 3.50000000e+01\n",
      "  5.80000000e+04]\n",
      " [0.00000000e+00 1.00000000e+00 0.00000000e+00 4.00000000e+01\n",
      "  6.37777778e+04]\n",
      " [1.00000000e+00 0.00000000e+00 0.00000000e+00 4.40000000e+01\n",
      "  7.20000000e+04]\n",
      " [0.00000000e+00 0.00000000e+00 1.00000000e+00 2.70000000e+01\n",
      "  4.80000000e+04]\n",
      " [1.00000000e+00 0.00000000e+00 0.00000000e+00 3.70000000e+01\n",
      "  6.70000000e+04]\n",
      " [0.00000000e+00 1.00000000e+00 0.00000000e+00 3.00000000e+01\n",
      "  5.40000000e+04]\n",
      " [1.00000000e+00 0.00000000e+00 0.00000000e+00 4.80000000e+01\n",
      "  7.90000000e+04]\n",
      " [0.00000000e+00 1.00000000e+00 0.00000000e+00 5.00000000e+01\n",
      "  8.30000000e+04]]\n",
      "X Test = \n",
      " [[0.00000000e+00 0.00000000e+00 1.00000000e+00 3.80000000e+01\n",
      "  6.10000000e+04]\n",
      " [0.00000000e+00 0.00000000e+00 1.00000000e+00 3.87777778e+01\n",
      "  5.20000000e+04]]\n",
      "y Training = \n",
      " [1 1 0 1 1 0 1 0]\n",
      "y Test = \n",
      " [0 0]\n"
     ]
    }
   ],
   "source": [
    "from sklearn.cross_validation import train_test_split\n",
    "X_train,X_test,y_train,y_test = train_test_split(X, y, test_size=0.2, random_state=0)\n",
    "print(\"X Training = \\n\",X_train)\n",
    "print(\"X Test = \\n\",X_test)\n",
    "print(\"y Training = \\n\",y_train)\n",
    "print(\"y Test = \\n\",y_test)"
   ]
  },
  {
   "cell_type": "markdown",
   "metadata": {},
   "source": [
    "## Feature Scaling"
   ]
  },
  {
   "cell_type": "code",
   "execution_count": 21,
   "metadata": {},
   "outputs": [
    {
     "name": "stdout",
     "output_type": "stream",
     "text": [
      "StandarScaled X Training Data = \n",
      " [[ 1.         -0.77459667 -0.37796447 -0.50401507 -0.66933916]\n",
      " [-1.          1.29099445 -0.37796447  0.14632696 -0.16029878]\n",
      " [ 1.         -0.77459667 -0.37796447  0.66660058  0.56410485]\n",
      " [-1.         -0.77459667  2.64575131 -1.54456232 -1.5503706 ]\n",
      " [ 1.         -0.77459667 -0.37796447 -0.24387826  0.12358913]\n",
      " [-1.          1.29099445 -0.37796447 -1.1543571  -1.02175174]\n",
      " [ 1.         -0.77459667 -0.37796447  1.1868742   1.18082686]\n",
      " [-1.          1.29099445 -0.37796447  1.44701101  1.53323943]]\n",
      "StandarScaled X Test Data = \n",
      " [[ 0.00000000e+00  0.00000000e+00  1.38777878e-17 -1.00000000e+00\n",
      "   1.00000000e+00]\n",
      " [ 0.00000000e+00  0.00000000e+00  1.38777878e-17  1.00000000e+00\n",
      "  -1.00000000e+00]]\n"
     ]
    }
   ],
   "source": [
    "# as the eucledian metric will be dominated by the parameter with has higher scale(Here Salary)\n",
    "# without feature scaling model may take long time to converge\n",
    "from sklearn.preprocessing import StandardScaler\n",
    "sc_X = StandardScaler()\n",
    "\n",
    "X_train = sc_X.fit_transform(X_train)\n",
    "print(\"StandarScaled X Training Data = \\n\",X_train)\n",
    "\n",
    "X_test = sc_X.transform(X_test)\n",
    "print(\"StandarScaled X Test Data = \\n\",X_test)"
   ]
  },
  {
   "cell_type": "code",
   "execution_count": null,
   "metadata": {},
   "outputs": [],
   "source": []
  }
 ],
 "metadata": {
  "kernelspec": {
   "display_name": "Python 3",
   "language": "python",
   "name": "python3"
  },
  "language_info": {
   "codemirror_mode": {
    "name": "ipython",
    "version": 3
   },
   "file_extension": ".py",
   "mimetype": "text/x-python",
   "name": "python",
   "nbconvert_exporter": "python",
   "pygments_lexer": "ipython3",
   "version": "3.6.5"
  }
 },
 "nbformat": 4,
 "nbformat_minor": 2
}
